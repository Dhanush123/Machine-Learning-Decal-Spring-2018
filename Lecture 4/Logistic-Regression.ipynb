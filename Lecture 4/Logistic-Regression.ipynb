{
 "cells": [
  {
   "cell_type": "markdown",
   "metadata": {},
   "source": [
    "# Logistic Regression with SUSY\n",
    "Today, you'll be a physicist, working with collider data to make new particle discoveries! You've been given a small subset of the SUSY Data Set, which contains the results of a simulated experiment to detect supersymmetric particles.\n",
    "\n",
    "First, let's start off with the necessary imports."
   ]
  },
  {
   "cell_type": "code",
   "execution_count": 7,
   "metadata": {},
   "outputs": [],
   "source": [
    "import csv\n",
    "import numpy as np\n",
    "import matplotlib\n",
    "import matplotlib.pyplot as plt"
   ]
  },
  {
   "cell_type": "markdown",
   "metadata": {},
   "source": [
    "Next, we will read in the data and split into training and validation sets."
   ]
  },
  {
   "cell_type": "code",
   "execution_count": 8,
   "metadata": {},
   "outputs": [],
   "source": [
    "with open(\"SUSY_small.csv\", \"r\") as f:\n",
    "    read = csv.reader(f, delimiter=\",\")\n",
    "    x = list(read)\n",
    "data = np.array([[float(x[i][j]) for j in range(len(x[0]))] for i in range(len(x))])"
   ]
  },
  {
   "cell_type": "code",
   "execution_count": 9,
   "metadata": {},
   "outputs": [
    {
     "name": "stdout",
     "output_type": "stream",
     "text": [
      "(4112, 18) (1000, 18) (4112,) (1000,)\n"
     ]
    }
   ],
   "source": [
    "shuffle = np.arange(data.shape[0])\n",
    "np.random.shuffle(shuffle)\n",
    "data_train = data[shuffle[:-1000],:]\n",
    "data_val = data[shuffle[-1000:],:]\n",
    "X_train, Y_train = data_train[:,1:], data_train[:,0]\n",
    "X_val, Y_val = data_val[:,1:], data_val[:,0]\n",
    "\n",
    "print(X_train.shape, X_val.shape, Y_train.shape, Y_val.shape)"
   ]
  },
  {
   "cell_type": "markdown",
   "metadata": {},
   "source": [
    "Let's now implement the functions needed to perform gradient descent."
   ]
  },
  {
   "cell_type": "code",
   "execution_count": 10,
   "metadata": {},
   "outputs": [],
   "source": [
    "def sigmoid(X, w):\n",
    "    \"\"\"\n",
    "    Compute the elementwise sigmoid of the product Xw\n",
    "    Data in X should be rows, weights are a column. \n",
    "    \"\"\"\n",
    "    return 1 / (1 + np.exp(-np.dot(X, w)))\n",
    "\n",
    "def gradient(X, y, w, onept=False, norm=None, lamb=0):\n",
    "    \"\"\"\n",
    "    Compute gradient of regularized loss function. \n",
    "    Accomodate for if X is just one data point. \n",
    "    \"\"\"\n",
    "    grad = 0\n",
    "    if norm == 'l1':\n",
    "        grad += lamb * np.sign(w)\n",
    "    if norm == 'l2':\n",
    "        grad += 2 * lamb * w\n",
    "    if onept: \n",
    "        grad += -((y - sigmoid(X, w)) * X).reshape(w.size, 1)\n",
    "    else:\n",
    "        grad += -np.dot(X.T, y - sigmoid(X, w)) / y.size\n",
    "    return grad\n",
    "\n",
    "def loss(X, y, w, norm=None, lamb=0):\n",
    "    \"\"\"\n",
    "    Compute total loss for the data in X, labels in y, params w\n",
    "    \"\"\"\n",
    "    sumcost = 0\n",
    "    for i in range(X.shape[0]):\n",
    "        sumcost += y[i] * np.log(sigmoid(X[i], w)) + (1 - y[i]) * np.log(1 - sigmoid(X[i], w))\n",
    "    normcost = 0\n",
    "    if norm == 'l1':\n",
    "        normcost = lamb * np.sum(np.abs(w))\n",
    "    if norm == 'l2':\n",
    "        normcost = lamb * np.linalg.norm(w)**2\n",
    "    return normcost - sumcost / y.size\n",
    "\n",
    "def accuracy(X, y, w):\n",
    "    \"\"\"\n",
    "    Compute accuracy for data in X, labels in y, params w\n",
    "    \"\"\"\n",
    "    results = np.round(sigmoid(X, w))\n",
    "    score = sum([results[i] == y[i] for i in range(y.size)]) / y.size\n",
    "    return score"
   ]
  },
  {
   "cell_type": "markdown",
   "metadata": {},
   "source": [
    "Now that we have the needed functions, we can perform gradient descent to train the model."
   ]
  },
  {
   "cell_type": "code",
   "execution_count": 11,
   "metadata": {},
   "outputs": [],
   "source": [
    "theta = np.random.normal(0, 0.1, X_train.shape[1])\n",
    "losses = []\n",
    "train_accuracies = []\n",
    "validation_accuracies = []\n",
    "epsilon = 0.05\n",
    "num_iterations = 500\n",
    "\n",
    "for i in range(num_iterations):\n",
    "    diff = epsilon * gradient(X_train, Y_train, theta)\n",
    "    theta = theta - diff\n",
    "    losses.append(loss(X_train, Y_train, theta))\n",
    "    train_accuracies.append(accuracy(X_train, Y_train, theta))\n",
    "    validation_accuracies.append(accuracy(X_val, Y_val, theta))"
   ]
  },
  {
   "cell_type": "code",
   "execution_count": 12,
   "metadata": {},
   "outputs": [
    {
     "data": {
      "image/png": "[encoded data removed]",
      "text/plain": [
       "<Figure size 720x720 with 1 Axes>"
      ]
     },
     "metadata": {},
     "output_type": "display_data"
    },
    {
     "name": "stdout",
     "output_type": "stream",
     "text": [
      "0.7614299610894941\n"
     ]
    }
   ],
   "source": [
    "plt.figure(figsize=[10,10])\n",
    "plt.plot(np.arange(num_iterations), losses, 'ro')\n",
    "plt.plot(np.arange(num_iterations), train_accuracies, 'bo')\n",
    "plt.plot(np.arange(num_iterations), validation_accuracies, 'go')\n",
    "plt.title('Loss and Accuracy During Training Using Batch Gradient Descent')\n",
    "plt.ylabel('Value')\n",
    "plt.xlabel('Iteration Number')\n",
    "plt.show()\n",
    "print(accuracy(X_train, Y_train, theta))"
   ]
  },
  {
   "cell_type": "code",
   "execution_count": 13,
   "metadata": {},
   "outputs": [
    {
     "name": "stdout",
     "output_type": "stream",
     "text": [
      "0.769\n"
     ]
    }
   ],
   "source": [
    "print(accuracy(X_val, Y_val, theta))"
   ]
  },
  {
   "cell_type": "markdown",
   "metadata": {},
   "source": [
    "# Logistic Regression with Regularization\n",
    "What happens when our model overfits? Let's see what we can do to improve our validation accuracy."
   ]
  },
  {
   "cell_type": "code",
   "execution_count": 14,
   "metadata": {},
   "outputs": [],
   "source": [
    "X_train_small, Y_train_small = data_train[:50,1:], data_train[:50,0]"
   ]
  },
  {
   "cell_type": "code",
   "execution_count": 15,
   "metadata": {},
   "outputs": [],
   "source": [
    "theta = np.random.normal(0, 0.1, X_train_small.shape[1])\n",
    "losses = []\n",
    "train_accuracies = []\n",
    "test_accuracies = []\n",
    "\n",
    "for i in range(num_iterations):\n",
    "    diff = epsilon * gradient(X_train_small, Y_train_small, theta)\n",
    "    theta = theta - diff\n",
    "    losses.append(loss(X_train_small, Y_train_small, theta))\n",
    "    train_accuracies.append(accuracy(X_train_small, Y_train_small, theta))\n",
    "    test_accuracies.append(accuracy(X_val, Y_val, theta))"
   ]
  },
  {
   "cell_type": "code",
   "execution_count": 16,
   "metadata": {},
   "outputs": [
    {
     "data": {
      "image/png": "[encoded data removed]",
      "text/plain": [
       "<Figure size 720x720 with 1 Axes>"
      ]
     },
     "metadata": {},
     "output_type": "display_data"
    },
    {
     "name": "stdout",
     "output_type": "stream",
     "text": [
      "0.9\n"
     ]
    }
   ],
   "source": [
    "plt.figure(figsize=[10,10])\n",
    "plt.plot(np.arange(num_iterations), losses, 'ro')\n",
    "plt.plot(np.arange(num_iterations), train_accuracies, 'bo')\n",
    "plt.plot(np.arange(num_iterations), validation_accuracies, 'go')\n",
    "plt.title('Loss and Accuracy During Training Using Batch Gradient Descent')\n",
    "plt.ylabel('Value')\n",
    "plt.xlabel('Iteration Number')\n",
    "plt.show()\n",
    "print(accuracy(X_train_small, Y_train_small, theta))"
   ]
  },
  {
   "cell_type": "code",
   "execution_count": 17,
   "metadata": {},
   "outputs": [
    {
     "name": "stdout",
     "output_type": "stream",
     "text": [
      "0.576\n"
     ]
    }
   ],
   "source": [
    "print(accuracy(X_val, Y_val, theta))"
   ]
  },
  {
   "cell_type": "markdown",
   "metadata": {},
   "source": [
    "Doesn't look so good, huh? Now's lets see what we can do to improve that with regularization.\n",
    "Note: We are using a relatively simple model, and so for this specific instance may not be very useful."
   ]
  },
  {
   "cell_type": "code",
   "execution_count": 18,
   "metadata": {},
   "outputs": [
    {
     "name": "stdout",
     "output_type": "stream",
     "text": [
      "l1\n",
      "0\n"
     ]
    },
    {
     "ename": "TypeError",
     "evalue": "must be str, not numpy.float64",
     "output_type": "error",
     "traceback": [
      "\u001b[0;31m---------------------------------------------------------------------------\u001b[0m",
      "\u001b[0;31mTypeError\u001b[0m                                 Traceback (most recent call last)",
      "\u001b[0;32m<ipython-input-18-6091d0ffa8a7>\u001b[0m in \u001b[0;36m<module>\u001b[0;34m()\u001b[0m\n\u001b[1;32m     13\u001b[0m         \u001b[0mval_acc\u001b[0m \u001b[0;34m=\u001b[0m \u001b[0maccuracy\u001b[0m\u001b[0;34m(\u001b[0m\u001b[0mX_val\u001b[0m\u001b[0;34m,\u001b[0m \u001b[0mY_val\u001b[0m\u001b[0;34m,\u001b[0m \u001b[0mtheta\u001b[0m\u001b[0;34m)\u001b[0m\u001b[0;34m\u001b[0m\u001b[0m\n\u001b[1;32m     14\u001b[0m         \u001b[0mprint\u001b[0m\u001b[0;34m(\u001b[0m\u001b[0mlamb\u001b[0m\u001b[0;34m)\u001b[0m\u001b[0;34m\u001b[0m\u001b[0m\n\u001b[0;32m---> 15\u001b[0;31m         \u001b[0mprint\u001b[0m\u001b[0;34m(\u001b[0m\u001b[0;34m'Training: '\u001b[0m \u001b[0;34m+\u001b[0m \u001b[0mtrain_acc\u001b[0m \u001b[0;34m+\u001b[0m \u001b[0;34m', Validation: '\u001b[0m \u001b[0;34m+\u001b[0m \u001b[0mval_acc\u001b[0m\u001b[0;34m)\u001b[0m\u001b[0;34m\u001b[0m\u001b[0m\n\u001b[0m\u001b[1;32m     16\u001b[0m         \u001b[0mprint\u001b[0m\u001b[0;34m(\u001b[0m\u001b[0;34m)\u001b[0m\u001b[0;34m\u001b[0m\u001b[0m\n",
      "\u001b[0;31mTypeError\u001b[0m: must be str, not numpy.float64"
     ]
    }
   ],
   "source": [
    "lambdas = [0, 0.001, 0.01, 0.1, 1, 10]\n",
    "norms = ['l1', 'l2']\n",
    "\n",
    "for norm in norms:\n",
    "    print(norm)\n",
    "    for lamb in lambdas:\n",
    "        theta = np.random.normal(0, 0.1, X_train_small.shape[1])\n",
    "        for i in range(num_iterations):\n",
    "            diff = epsilon * gradient(X_train_small, Y_train_small, theta,\n",
    "                                      norm=norm,lamb=lamb)\n",
    "            theta = theta - diff\n",
    "        train_acc = accuracy(X_train_small, Y_train_small, theta)\n",
    "        val_acc = accuracy(X_val, Y_val, theta)\n",
    "        print(lamb)\n",
    "        print('Training: ' + train_acc + ', Validation: ' + val_acc)\n",
    "        print()"
   ]
  },
  {
   "cell_type": "markdown",
   "metadata": {},
   "source": [
    "To see what kind of effect regularization is having on the weights, train the model with varying norms and lambdas and print out the parameters."
   ]
  },
  {
   "cell_type": "code",
   "execution_count": null,
   "metadata": {},
   "outputs": [],
   "source": [
    "print(theta)"
   ]
  },
  {
   "cell_type": "code",
   "execution_count": null,
   "metadata": {},
   "outputs": [],
   "source": []
  }
 ],
 "metadata": {
  "kernelspec": {
   "display_name": "Python 3",
   "language": "python",
   "name": "python3"
  },
  "language_info": {
   "codemirror_mode": {
    "name": "ipython",
    "version": 3
   },
   "file_extension": ".py",
   "mimetype": "text/x-python",
   "name": "python",
   "nbconvert_exporter": "python",
   "pygments_lexer": "ipython3",
   "version": "3.6.4"
  }
 },
 "nbformat": 4,
 "nbformat_minor": 1
}
